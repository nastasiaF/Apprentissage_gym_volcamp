{
  "cells": [
    {
      "cell_type": "code",
      "source": [
        "!pip install gymnasium"
      ],
      "metadata": {
        "id": "teh9NKOovQ-0"
      },
      "execution_count": null,
      "outputs": []
    },
    {
      "cell_type": "markdown",
      "source": [
        "# Définition de l'environnement\n"
      ],
      "metadata": {
        "id": "5GLPgVs-t_RD"
      }
    },
    {
      "cell_type": "code",
      "execution_count": 11,
      "metadata": {
        "id": "vKOVSxN3sKvu"
      },
      "outputs": [],
      "source": [
        "import random\n",
        "import gymnasium as gym\n",
        "from gymnasium import spaces\n",
        "import numpy as np\n",
        "import string\n",
        "\n",
        "class HangedManEnv(gym.Env):\n",
        "    metadata = {\"render_modes\": [\"human\", \"rgb_array\"], \"n_total_try_games\": 11}\n",
        "\n",
        "    \"\"\"Gym environnement for the Hanged Man game.\n",
        "\n",
        "    Args:\n",
        "        max_word_size (int): maximum size of the word to be guessed\n",
        "        word_dictionary (set): Dictionary of words\n",
        "\n",
        "    Attributes:\n",
        "        max_word_size (int): maximum size of the word to be guessed\n",
        "        n_total_try_games (int): Maximum number of try\n",
        "        word_dictionary (set): Dictionary of words\n",
        "        encoded_state (np.array int): Current state encoded.\n",
        "        encoded_tried_letters (np.array bool):\n",
        "        encoded_aim (np.array int): Current word to guess encoded. When the encoded\n",
        "        state reach this aim, the game ends.\n",
        "    \"\"\"\n",
        "\n",
        "    def __init__(self, word_dictionary, max_word_size=8, render_mode = None):\n",
        "\n",
        "        # Specifics attributes\n",
        "        self.n_total_try_games = self.metadata[\"n_total_try_games\"]\n",
        "        self.encoded_state = None\n",
        "        self.encoded_aim = None\n",
        "        self.encoded_tried_letters = None\n",
        "        self._nb_left_try = None  # number of try left\n",
        "        self.word_dictionary = word_dictionary\n",
        "        self.max_word_size = max_word_size\n",
        "\n",
        "        # Action Space\n",
        "        # The agent can choose between all letter.\n",
        "        self.action_space = spaces.Discrete(26)\n",
        "\n",
        "        # Observations Space\n",
        "        # 28 states for each position in the word\n",
        "        # 26 for each letter of the alphabet.\n",
        "        # 1 for \"to be guessed\" (represented as _).\n",
        "        # 1 for \"not active in this game\" (represented as a padding).\n",
        "        self.observation_space = spaces.Tuple((\n",
        "            spaces.MultiDiscrete([28] * self.max_word_size),  # Encoded word\n",
        "            spaces.MultiBinary(26)  # Binary status for letters\n",
        "        ))\n",
        "\n",
        "        self.render_mode = render_mode\n",
        "        assert render_mode is None or render_mode in self.metadata[\"render_modes\"]\n",
        "\n",
        "        self.window = None\n",
        "        self.clock = None\n",
        "\n",
        "    def encode_word(self, word):\n",
        "        \"\"\"Convert word string to encoded numpy array.\"\"\"\n",
        "        encoded = np.zeros(self.max_word_size, dtype=np.int8)\n",
        "\n",
        "        for idx, char in enumerate(word):\n",
        "            if char == '_':\n",
        "                encoded[idx] = 1\n",
        "            else:\n",
        "                encoded[idx] = ord(char) - ord('A') + 2\n",
        "\n",
        "        return encoded\n",
        "\n",
        "    def decode_word(self, encoded_word):\n",
        "        \"\"\"Convert numpy array back to word string.\"\"\"\n",
        "        decoded = \"\"\n",
        "\n",
        "        for code in encoded_word:\n",
        "            if code == 0:\n",
        "                break\n",
        "            elif code == 1:\n",
        "                decoded = decoded + \"_\"\n",
        "            else:\n",
        "                decoded = decoded + chr(code + ord('A') - 2)\n",
        "        return decoded\n",
        "\n",
        "    def decode_tried_letters(self):\n",
        "        \"\"\"\"Decode encoded letters for human rendering\"\"\"\n",
        "        tried_letters = set()\n",
        "\n",
        "        for index, tried in enumerate(self.encoded_tried_letters):\n",
        "            if tried:\n",
        "                letter = chr(index + ord('A'))\n",
        "                tried_letters.add(letter)\n",
        "\n",
        "        return tried_letters\n",
        "\n",
        "    def _get_obs(self):\n",
        "        \"\"\"\" Get observation \"\"\"\n",
        "        return (self.encoded_state, self.encoded_tried_letters)\n",
        "\n",
        "    def _get_info(self):\n",
        "        \"\"\"\" Get info \"\"\"\n",
        "        info = {'left try': self._nb_left_try}\n",
        "        return info\n",
        "\n",
        "    def reset(self, seed=None):\n",
        "        \"\"\"\n",
        "        Set or reset the environment attributes to start a new episode\n",
        "        \"\"\"\n",
        "        super().reset(seed=seed)\n",
        "\n",
        "        # Observations Space\n",
        "        # Set encodes states with all elements inactive (=0)\n",
        "        self.encoded_state = np.zeros((self.max_word_size), dtype = np.uint8)\n",
        "        # Sample a word from dict\n",
        "        decoded_word = self._sample_word()\n",
        "        # Set up active elements in encoded state\n",
        "        for i in range(0, len(decoded_word)):\n",
        "            self.encoded_state[i] = 1\n",
        "        # Encode the word that will be the aim for the encoded state\n",
        "        self.encoded_aim = self.encode_word(decoded_word)\n",
        "        # a bool array to know which letters have been tried\n",
        "        self.encoded_tried_letters = np.zeros((26), dtype = np.bool_)\n",
        "        # Set the nb_left_try\n",
        "        self._nb_left_try = self.n_total_try_games\n",
        "\n",
        "        if self.render_mode == \"human\":\n",
        "            self.render()\n",
        "\n",
        "        return self._get_obs(), self._get_info()\n",
        "\n",
        "    def step(self, action):\n",
        "        \"\"\"\" Process the game, maximize the encoded stuff for performance\"\"\"\n",
        "\n",
        "        reward = -1 # negative reward because the aim to to win the fastest\n",
        "        # if a letter is found then the reward will be 0 for the step\n",
        "\n",
        "        # check if letter already tried\n",
        "        if not self.encoded_tried_letters[action]:\n",
        "            self.encoded_tried_letters[action] = True\n",
        "            encoded_letter = action + 2\n",
        "            # Find the indices in encoded_aim where the letter is present\n",
        "            letter_indices = np.where(self.encoded_aim == encoded_letter)[0]\n",
        "            # If indices are found (letter exists in encoded_aim)\n",
        "            if len(letter_indices) > 0:\n",
        "                # Update the encoded_state at these indices\n",
        "                self.encoded_state[letter_indices] = encoded_letter\n",
        "                # Set reward to zero if letter found\n",
        "                reward = 0\n",
        "\n",
        "        self._nb_left_try += reward\n",
        "\n",
        "        # Terminated ?\n",
        "        terminated = False\n",
        "        if self._nb_left_try == 0:\n",
        "            terminated = True\n",
        "        elif (self.encoded_state == self.encoded_aim).all(): # aim is reached\n",
        "            terminated = True\n",
        "\n",
        "        truncated = False  # often time limit\n",
        "\n",
        "        if self.render_mode == \"human\":\n",
        "            self.render()\n",
        "\n",
        "        return self._get_obs(), reward, terminated, truncated, self._get_info()\n",
        "\n",
        "    def render(self):\n",
        "        print(\"-------------------------\")\n",
        "        print(\"Guessed word  : \" + self.decode_word(self.encoded_state))\n",
        "        print(\"Tried letters : \" + str(self.decode_tried_letters()))\n",
        "\n",
        "    def _sample_word(self):\n",
        "        \"\"\"\" Sample a word \"\"\"\n",
        "        word = random.choice(self.word_dictionary)\n",
        "        while len(word) > self.max_word_size:\n",
        "            word = random.choice(self.word_dictionary)\n",
        "        return word.upper()\n",
        "\n"
      ]
    },
    {
      "cell_type": "markdown",
      "source": [
        "# Appel un env."
      ],
      "metadata": {
        "id": "AJwo73Olyx5Q"
      }
    },
    {
      "cell_type": "code",
      "execution_count": 12,
      "metadata": {
        "colab": {
          "base_uri": "https://localhost:8080/"
        },
        "id": "97ifKg2ssKvx",
        "outputId": "0b0d5a49-bb40-4d57-94f9-c57303e34f45"
      },
      "outputs": [
        {
          "output_type": "stream",
          "name": "stderr",
          "text": [
            "[nltk_data] Downloading package words to /root/nltk_data...\n",
            "[nltk_data]   Package words is already up-to-date!\n"
          ]
        }
      ],
      "source": [
        "import nltk\n",
        "nltk.download('words')\n",
        "from nltk.corpus import words\n",
        "word_list = words.words()  # this returns a list\n",
        "max_length = 3\n",
        "filtered_words = [word for word in word_list if len(word) <= max_length]\n",
        "env = HangedManEnv(filtered_words, max_length)"
      ]
    },
    {
      "cell_type": "markdown",
      "source": [
        "# La partie apprentissage"
      ],
      "metadata": {
        "id": "Tfjz3GQjwIz1"
      }
    },
    {
      "cell_type": "markdown",
      "source": [
        "## Définission d'une policy"
      ],
      "metadata": {
        "id": "5uTT5aawxozU"
      }
    },
    {
      "cell_type": "code",
      "execution_count": 10,
      "metadata": {
        "id": "qS0oNS2msKvx"
      },
      "outputs": [],
      "source": [
        "import numpy as np\n",
        "\n",
        "# Q-learning parameters\n",
        "learning_rate = 0.1\n",
        "discount_factor = 0.99\n",
        "initial_epsilon = 1.0\n",
        "epsilon_decay = 0.9975\n",
        "min_epsilon = 0.05\n",
        "\n",
        "# Initialize the Q-table\n",
        "# The shape is based on the observation space and action space\n",
        "q_table_shape = (28**max_length, 26)  # Adjust based on the state and action space\n",
        "q_table = np.zeros(q_table_shape)\n",
        "\n",
        "def epsilon_greedy_policy(state):\n",
        "    \"\"\"\n",
        "    Returns an action based on epsilon-greedy policy.\n",
        "    \"\"\"\n",
        "    if np.random.uniform(0, 1) < epsilon:\n",
        "        # Exploration: choose a random action\n",
        "        return np.random.choice(26)\n",
        "    else:\n",
        "        # Exploitation: choose the action with max Q-value for the current state\n",
        "        # Mask forbidden actions using the second element of the observation\n",
        "        masked_q_values = np.copy(q_table[state[0]])\n",
        "        # Mask by setting very low Q-value for letter already tried\n",
        "        masked_q_values[state[1]] = -np.inf\n",
        "        # retrun the action with the max Q-value\n",
        "        return np.argmax(masked_q_values)"
      ]
    },
    {
      "cell_type": "markdown",
      "source": [
        "## Entrainement"
      ],
      "metadata": {
        "id": "piF8svfHxvx6"
      }
    },
    {
      "cell_type": "code",
      "execution_count": 13,
      "metadata": {
        "id": "Bs_EWNOhsKvy"
      },
      "outputs": [],
      "source": [
        "# Training loop\n",
        "# Training parameters\n",
        "total_episodes = 100000\n",
        "batch_size = 500  # Number of episodes in a batch\n",
        "n_tests = 500  # Number of evaluation runs after each batch\n",
        "batch_rewards = []\n",
        "\n",
        "epsilon = initial_epsilon # epsilon will update after each batch\n",
        "\n",
        "# Train per batches\n",
        "# epsilon decay after batch\n",
        "# tests after batch\n",
        "for batch in range(total_episodes // batch_size):\n",
        "    # Training episodes\n",
        "    batch_reward_sum = 0\n",
        "    for episode in range(batch_size):\n",
        "\n",
        "        state, _ = env.reset()\n",
        "\n",
        "        # Convert state to a single integer for indexing in Q-table\n",
        "        state_index = np.dot(state[0], [28**i for i in range(max_length)])\n",
        "\n",
        "        done = False\n",
        "        while not done:\n",
        "            # action is determined with epsilon greedy policy\n",
        "            # either exploratory or best according to current q-table\n",
        "            action = epsilon_greedy_policy((state_index, state[1]))\n",
        "            next_state, reward, done, _, _ = env.step(action)\n",
        "\n",
        "            # Convert next_state to a single integer for indexing in Q-table\n",
        "            next_state_index = np.dot(next_state[0], [28**i for i in range(max_length)])\n",
        "\n",
        "            # Q-learning update rule\n",
        "            best_next_action = np.argmax(q_table[next_state_index])\n",
        "            td_target = reward + discount_factor * q_table[next_state_index][best_next_action]\n",
        "            td_error = td_target - q_table[state_index][action]\n",
        "            q_table[state_index][action] += learning_rate * td_error\n",
        "\n",
        "            state = next_state\n",
        "            state_index = next_state_index\n",
        "\n",
        "\n",
        "    epsilon *= epsilon_decay\n",
        "    epsilon = max(epsilon, min_epsilon)\n",
        "\n",
        "    # Evaluation after each batch\n",
        "    total_test_rewards = []\n",
        "    for _ in range(n_tests):\n",
        "        state, _ = env.reset()\n",
        "        state_index = np.dot(state[0], [28**i for i in range(max_length)])\n",
        "        total_reward = 0\n",
        "        done = False\n",
        "        while not done:\n",
        "            # Always choose the best possible action\n",
        "            # Same as using the policy with epsilon = 0\n",
        "            masked_q_values = np.copy(q_table[state_index])\n",
        "            masked_q_values[state[1]] = -np.inf\n",
        "            action = np.argmax(masked_q_values)\n",
        "            state, reward, done, _, _ = env.step(action)\n",
        "            state_index = np.dot(state[0], [28**i for i in range(max_length)])\n",
        "            total_reward += reward\n",
        "\n",
        "        total_test_rewards.append(total_reward)\n",
        "    #\n",
        "    mean_test_reward = np.mean(total_test_rewards)\n",
        "    batch_rewards.append(mean_test_reward)\n"
      ]
    },
    {
      "cell_type": "code",
      "execution_count": null,
      "metadata": {
        "id": "0dgv6JEMsKvy",
        "outputId": "a7ee9d6b-c02b-46b5-f218-9b01eb3ac66b"
      },
      "outputs": [
        {
          "data": {
            "text/plain": [
              "0.05"
            ]
          },
          "execution_count": 10,
          "metadata": {},
          "output_type": "execute_result"
        }
      ],
      "source": [
        "epsilon"
      ]
    },
    {
      "cell_type": "code",
      "execution_count": null,
      "metadata": {
        "id": "xskzr9EcsKvy",
        "outputId": "c8487cf1-6813-4e6f-9dde-6eb0702c2053"
      },
      "outputs": [
        {
          "data": {
            "image/png": "[encoded data removed]",
            "text/plain": [
              "<Figure size 640x480 with 1 Axes>"
            ]
          },
          "metadata": {},
          "output_type": "display_data"
        }
      ],
      "source": [
        "import matplotlib.pyplot as plt\n",
        "\n",
        "# Plotting\n",
        "plt.plot(batch_rewards)\n",
        "plt.xlabel('Batch')\n",
        "plt.ylabel('Mean Evaluation Reward')\n",
        "plt.title('Evaluation Reward over Time')\n",
        "plt.show()"
      ]
    }
  ],
  "metadata": {
    "kernelspec": {
      "display_name": "Python 3",
      "language": "python",
      "name": "python3"
    },
    "language_info": {
      "codemirror_mode": {
        "name": "ipython",
        "version": 3
      },
      "file_extension": ".py",
      "mimetype": "text/x-python",
      "name": "python",
      "nbconvert_exporter": "python",
      "pygments_lexer": "ipython3",
      "version": "3.9.2"
    },
    "colab": {
      "provenance": []
    }
  },
  "nbformat": 4,
  "nbformat_minor": 0
}